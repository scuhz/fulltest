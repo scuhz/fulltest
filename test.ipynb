{
    "cells": [
        {
            "cell_type": "code",
            "execution_count": 5,
            "source": [
                "import pandas as pd\r\n",
                "a = 1\r\n",
                "b = a\r\n",
                "b += 3\r\n",
                "def func(val):\r\n",
                "    val *= 5\r\n",
                "    return val\r\n",
                "c = func(b)\r\n"
            ],
            "outputs": [],
            "metadata": {}
        },
        {
            "cell_type": "code",
            "execution_count": null,
            "source": [],
            "outputs": [],
            "metadata": {}
        }
    ],
    "metadata": {
        "orig_nbformat": 4,
        "language_info": {
            "name": "python",
            "version": "3.7.3",
            "mimetype": "text/x-python",
            "codemirror_mode": {
                "name": "ipython",
                "version": 3
            },
            "pygments_lexer": "ipython3",
            "nbconvert_exporter": "python",
            "file_extension": ".py"
        },
        "kernelspec": {
            "name": "python3",
            "display_name": "Python 3.7.3 64-bit ('base': conda)"
        },
        "interpreter": {
            "hash": "4905652b14e4b7eb92899b78ac499a22c488804455b27940a322fd82aaf71031"
        }
    },
    "nbformat": 4,
    "nbformat_minor": 2
}